{
 "cells": [
  {
   "cell_type": "markdown",
   "metadata": {},
   "source": [
    "# Machine Learning Part 2\n",
    "## Text Analysis"
   ]
  },
  {
   "cell_type": "code",
   "execution_count": 1,
   "metadata": {},
   "outputs": [],
   "source": [
    "# Import dependencies\n",
    "import pandas as pd\n",
    "import nltk\n",
    "from nltk.corpus import stopwords\n",
    "from nltk.tokenize import word_tokenize\n",
    "import collections"
   ]
  },
  {
   "cell_type": "code",
   "execution_count": 2,
   "metadata": {},
   "outputs": [
    {
     "data": {
      "text/html": [
       "<div>\n",
       "<style scoped>\n",
       "    .dataframe tbody tr th:only-of-type {\n",
       "        vertical-align: middle;\n",
       "    }\n",
       "\n",
       "    .dataframe tbody tr th {\n",
       "        vertical-align: top;\n",
       "    }\n",
       "\n",
       "    .dataframe thead th {\n",
       "        text-align: right;\n",
       "    }\n",
       "</style>\n",
       "<table border=\"1\" class=\"dataframe\">\n",
       "  <thead>\n",
       "    <tr style=\"text-align: right;\">\n",
       "      <th></th>\n",
       "      <th>VAERS_ID</th>\n",
       "      <th>RECVDATE</th>\n",
       "      <th>STATE</th>\n",
       "      <th>STATE_NAME</th>\n",
       "      <th>LATITUDE</th>\n",
       "      <th>LONGITUDE</th>\n",
       "      <th>AGE_YRS</th>\n",
       "      <th>CAGE_YR</th>\n",
       "      <th>CAGE_MO</th>\n",
       "      <th>SEX</th>\n",
       "      <th>...</th>\n",
       "      <th>SYMPTOM1</th>\n",
       "      <th>SYMPTOMVERSION1</th>\n",
       "      <th>SYMPTOM2</th>\n",
       "      <th>SYMPTOMVERSION2</th>\n",
       "      <th>SYMPTOM3</th>\n",
       "      <th>SYMPTOMVERSION3</th>\n",
       "      <th>SYMPTOM4</th>\n",
       "      <th>SYMPTOMVERSION4</th>\n",
       "      <th>SYMPTOM5</th>\n",
       "      <th>SYMPTOMVERSION5</th>\n",
       "    </tr>\n",
       "  </thead>\n",
       "  <tbody>\n",
       "    <tr>\n",
       "      <th>0</th>\n",
       "      <td>916600</td>\n",
       "      <td>01/01/2021</td>\n",
       "      <td>TX</td>\n",
       "      <td>Texas</td>\n",
       "      <td>31.968599</td>\n",
       "      <td>-99.901813</td>\n",
       "      <td>33</td>\n",
       "      <td>33</td>\n",
       "      <td></td>\n",
       "      <td>F</td>\n",
       "      <td>...</td>\n",
       "      <td>Dysphagia</td>\n",
       "      <td>23.1</td>\n",
       "      <td>Epiglottitis</td>\n",
       "      <td>23.1</td>\n",
       "      <td>0</td>\n",
       "      <td>0.0</td>\n",
       "      <td>0</td>\n",
       "      <td>0.0</td>\n",
       "      <td>0</td>\n",
       "      <td>0.0</td>\n",
       "    </tr>\n",
       "    <tr>\n",
       "      <th>1</th>\n",
       "      <td>916601</td>\n",
       "      <td>01/01/2021</td>\n",
       "      <td>CA</td>\n",
       "      <td>California</td>\n",
       "      <td>36.778261</td>\n",
       "      <td>-119.417932</td>\n",
       "      <td>73</td>\n",
       "      <td>73</td>\n",
       "      <td></td>\n",
       "      <td>F</td>\n",
       "      <td>...</td>\n",
       "      <td>Anxiety</td>\n",
       "      <td>23.1</td>\n",
       "      <td>Dyspnoea</td>\n",
       "      <td>23.1</td>\n",
       "      <td>0</td>\n",
       "      <td>0.0</td>\n",
       "      <td>0</td>\n",
       "      <td>0.0</td>\n",
       "      <td>0</td>\n",
       "      <td>0.0</td>\n",
       "    </tr>\n",
       "    <tr>\n",
       "      <th>2</th>\n",
       "      <td>916602</td>\n",
       "      <td>01/01/2021</td>\n",
       "      <td>WA</td>\n",
       "      <td>Washington</td>\n",
       "      <td>47.751074</td>\n",
       "      <td>-120.740139</td>\n",
       "      <td>23</td>\n",
       "      <td>23</td>\n",
       "      <td></td>\n",
       "      <td>F</td>\n",
       "      <td>...</td>\n",
       "      <td>Chest discomfort</td>\n",
       "      <td>23.1</td>\n",
       "      <td>Dysphagia</td>\n",
       "      <td>23.1</td>\n",
       "      <td>Pain in extremity</td>\n",
       "      <td>23.1</td>\n",
       "      <td>Visual impairment</td>\n",
       "      <td>23.1</td>\n",
       "      <td>0</td>\n",
       "      <td>0.0</td>\n",
       "    </tr>\n",
       "    <tr>\n",
       "      <th>3</th>\n",
       "      <td>916603</td>\n",
       "      <td>01/01/2021</td>\n",
       "      <td>WA</td>\n",
       "      <td>Washington</td>\n",
       "      <td>47.751074</td>\n",
       "      <td>-120.740139</td>\n",
       "      <td>58</td>\n",
       "      <td>58</td>\n",
       "      <td></td>\n",
       "      <td>F</td>\n",
       "      <td>...</td>\n",
       "      <td>Dizziness</td>\n",
       "      <td>23.1</td>\n",
       "      <td>Fatigue</td>\n",
       "      <td>23.1</td>\n",
       "      <td>Mobility decreased</td>\n",
       "      <td>23.1</td>\n",
       "      <td>0</td>\n",
       "      <td>0.0</td>\n",
       "      <td>0</td>\n",
       "      <td>0.0</td>\n",
       "    </tr>\n",
       "    <tr>\n",
       "      <th>4</th>\n",
       "      <td>916604</td>\n",
       "      <td>01/01/2021</td>\n",
       "      <td>TX</td>\n",
       "      <td>Texas</td>\n",
       "      <td>31.968599</td>\n",
       "      <td>-99.901813</td>\n",
       "      <td>47</td>\n",
       "      <td>47</td>\n",
       "      <td></td>\n",
       "      <td>F</td>\n",
       "      <td>...</td>\n",
       "      <td>Injection site erythema</td>\n",
       "      <td>23.1</td>\n",
       "      <td>Injection site pruritus</td>\n",
       "      <td>23.1</td>\n",
       "      <td>Injection site swelling</td>\n",
       "      <td>23.1</td>\n",
       "      <td>Injection site warmth</td>\n",
       "      <td>23.1</td>\n",
       "      <td>0</td>\n",
       "      <td>0.0</td>\n",
       "    </tr>\n",
       "  </tbody>\n",
       "</table>\n",
       "<p>5 rows × 55 columns</p>\n",
       "</div>"
      ],
      "text/plain": [
       "   VAERS_ID    RECVDATE STATE  STATE_NAME   LATITUDE    LONGITUDE AGE_YRS  \\\n",
       "0    916600  01/01/2021    TX       Texas  31.968599   -99.901813      33   \n",
       "1    916601  01/01/2021    CA  California  36.778261  -119.417932      73   \n",
       "2    916602  01/01/2021    WA  Washington  47.751074  -120.740139      23   \n",
       "3    916603  01/01/2021    WA  Washington  47.751074  -120.740139      58   \n",
       "4    916604  01/01/2021    TX       Texas  31.968599   -99.901813      47   \n",
       "\n",
       "  CAGE_YR CAGE_MO SEX  ...                 SYMPTOM1 SYMPTOMVERSION1  \\\n",
       "0      33           F  ...                Dysphagia            23.1   \n",
       "1      73           F  ...                  Anxiety            23.1   \n",
       "2      23           F  ...         Chest discomfort            23.1   \n",
       "3      58           F  ...                Dizziness            23.1   \n",
       "4      47           F  ...  Injection site erythema            23.1   \n",
       "\n",
       "                  SYMPTOM2 SYMPTOMVERSION2                 SYMPTOM3  \\\n",
       "0             Epiglottitis            23.1                        0   \n",
       "1                 Dyspnoea            23.1                        0   \n",
       "2                Dysphagia            23.1        Pain in extremity   \n",
       "3                  Fatigue            23.1       Mobility decreased   \n",
       "4  Injection site pruritus            23.1  Injection site swelling   \n",
       "\n",
       "  SYMPTOMVERSION3               SYMPTOM4 SYMPTOMVERSION4 SYMPTOM5  \\\n",
       "0             0.0                      0             0.0        0   \n",
       "1             0.0                      0             0.0        0   \n",
       "2            23.1      Visual impairment            23.1        0   \n",
       "3            23.1                      0             0.0        0   \n",
       "4            23.1  Injection site warmth            23.1        0   \n",
       "\n",
       "  SYMPTOMVERSION5  \n",
       "0             0.0  \n",
       "1             0.0  \n",
       "2             0.0  \n",
       "3             0.0  \n",
       "4             0.0  \n",
       "\n",
       "[5 rows x 55 columns]"
      ]
     },
     "execution_count": 2,
     "metadata": {},
     "output_type": "execute_result"
    }
   ],
   "source": [
    "# Get CSV obtained from database\n",
    "vae_df = pd.read_json(\"vaers-final-2021.json\")\n",
    "vae_df = vae_df.drop(columns=\"_id\")\n",
    "vae_df.head()"
   ]
  },
  {
   "cell_type": "code",
   "execution_count": 3,
   "metadata": {},
   "outputs": [
    {
     "name": "stdout",
     "output_type": "stream",
     "text": [
      "Index(['VAERS_ID', 'RECVDATE', 'STATE', 'STATE_NAME', 'LATITUDE', 'LONGITUDE',\n",
      "       'AGE_YRS', 'CAGE_YR', 'CAGE_MO', 'SEX', 'RPT_DATE', 'SYMPTOM_TEXT',\n",
      "       'DIED', 'DATEDIED', 'L_THREAT', 'ER_VISIT', 'HOSPITAL', 'HOSPDAYS',\n",
      "       'X_STAY', 'DISABLE', 'RECOVD', 'VAX_DATE', 'ONSET_DATE', 'NUMDAYS',\n",
      "       'LAB_DATA', 'V_ADMINBY', 'V_FUNDBY', 'OTHER_MEDS', 'CUR_ILL', 'HISTORY',\n",
      "       'PRIOR_VAX', 'SPLTTYPE', 'FORM_VERS', 'TODAYS_DATE', 'BIRTH_DEFECT',\n",
      "       'OFC_VISIT', 'ER_ED_VISIT', 'ALLERGIES', 'VAX_TYPE', 'VAX_MANU',\n",
      "       'VAX_LOT', 'VAX_DOSE_SERIES', 'VAX_ROUTE', 'VAX_SITE', 'VAX_NAME',\n",
      "       'SYMPTOM1', 'SYMPTOMVERSION1', 'SYMPTOM2', 'SYMPTOMVERSION2',\n",
      "       'SYMPTOM3', 'SYMPTOMVERSION3', 'SYMPTOM4', 'SYMPTOMVERSION4',\n",
      "       'SYMPTOM5', 'SYMPTOMVERSION5'],\n",
      "      dtype='object')\n"
     ]
    }
   ],
   "source": [
    "#Get column names\n",
    "print(vae_df.columns)"
   ]
  },
  {
   "cell_type": "code",
   "execution_count": 4,
   "metadata": {},
   "outputs": [],
   "source": [
    "# Get symptom text samples and merge into one\n",
    "symptoms_df = pd.DataFrame(vae_df[\"SYMPTOM_TEXT\"])\n",
    "symptoms_df_sample = symptoms_df.sample(500)\n",
    "symptoms_sample = ' '.join(symptoms_df_sample['SYMPTOM_TEXT'].tolist())"
   ]
  },
  {
   "cell_type": "code",
   "execution_count": 5,
   "metadata": {},
   "outputs": [
    {
     "data": {
      "text/plain": [
       "29214"
      ]
     },
     "execution_count": 5,
     "metadata": {},
     "output_type": "execute_result"
    }
   ],
   "source": [
    "# Tokenize words and remove stop words\n",
    "text = symptoms_sample\n",
    "text_tokens = word_tokenize(text)\n",
    "new_words= [word for word in text_tokens if word.isalnum()]\n",
    "tokens_without_sw = [word for word in new_words if not word in stopwords.words()]\n",
    "len(tokens_without_sw)"
   ]
  },
  {
   "cell_type": "code",
   "execution_count": 6,
   "metadata": {},
   "outputs": [],
   "source": [
    "# Get most common words\n",
    "counter = collections.Counter(tokens_without_sw)"
   ]
  },
  {
   "cell_type": "code",
   "execution_count": 7,
   "metadata": {},
   "outputs": [
    {
     "name": "stdout",
     "output_type": "stream",
     "text": [
      "[('patient', 719), ('The', 519), ('I', 352), ('vaccine', 311), ('dose', 300), ('received', 273), ('reported', 248), ('arm', 239), ('events', 229), ('pain', 194), ('She', 176), ('unknown', 170), ('first', 161), ('left', 158), ('unspecified', 157), ('day', 154), ('report', 148), ('injection', 146), ('Patient', 145), ('vaccination', 140), ('headache', 132), ('hours', 129), ('date', 129), ('This', 128), ('On', 127), ('history', 126), ('number', 123), ('event', 120), ('fever', 116), ('started', 115), ('site', 114), ('A', 113), ('felt', 110), ('like', 110), ('included', 108), ('days', 107), ('spontaneous', 106), ('symptoms', 105), ('chills', 104), ('body', 103), ('experienced', 103), ('administration', 101), ('outcome', 99), ('COVID', 98), ('female', 97), ('information', 97), ('medications', 95), ('BNT162B2', 94), ('medical', 94), ('right', 93)]\n"
     ]
    }
   ],
   "source": [
    "print(counter.most_common(50))"
   ]
  },
  {
   "cell_type": "code",
   "execution_count": null,
   "metadata": {},
   "outputs": [],
   "source": []
  }
 ],
 "metadata": {
  "kernelspec": {
   "display_name": "Python 3",
   "language": "python",
   "name": "python3"
  },
  "language_info": {
   "codemirror_mode": {
    "name": "ipython",
    "version": 3
   },
   "file_extension": ".py",
   "mimetype": "text/x-python",
   "name": "python",
   "nbconvert_exporter": "python",
   "pygments_lexer": "ipython3",
   "version": "3.8.5"
  }
 },
 "nbformat": 4,
 "nbformat_minor": 4
}
