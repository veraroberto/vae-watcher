{
  "nbformat": 4,
  "nbformat_minor": 5,
  "metadata": {
    "kernelspec": {
      "display_name": "Python [conda env:PythonData] *",
      "language": "python",
      "name": "conda-env-PythonData-py"
    },
    "language_info": {
      "codemirror_mode": {
        "name": "ipython",
        "version": 3
      },
      "file_extension": ".py",
      "mimetype": "text/x-python",
      "name": "python",
      "nbconvert_exporter": "python",
      "pygments_lexer": "ipython3",
      "version": "3.6.10"
    },
    "colab": {
      "name": "Vaccines prediction.ipynb",
      "provenance": [],
      "collapsed_sections": []
    }
  },
  "cells": [
    {
      "cell_type": "code",
      "metadata": {
        "colab": {
          "base_uri": "https://localhost:8080/"
        },
        "id": "efe65000",
        "outputId": "b30d37d9-4986-4e63-a76c-695f8eca252d"
      },
      "source": [
        "!pip install fbprophet"
      ],
      "id": "efe65000",
      "execution_count": 1,
      "outputs": [
        {
          "output_type": "stream",
          "text": [
            "Requirement already satisfied: fbprophet in /usr/local/lib/python3.7/dist-packages (0.7.1)\n",
            "Requirement already satisfied: Cython>=0.22 in /usr/local/lib/python3.7/dist-packages (from fbprophet) (0.29.24)\n",
            "Requirement already satisfied: cmdstanpy==0.9.5 in /usr/local/lib/python3.7/dist-packages (from fbprophet) (0.9.5)\n",
            "Requirement already satisfied: pystan>=2.14 in /usr/local/lib/python3.7/dist-packages (from fbprophet) (2.19.1.1)\n",
            "Requirement already satisfied: numpy>=1.15.4 in /usr/local/lib/python3.7/dist-packages (from fbprophet) (1.19.5)\n",
            "Requirement already satisfied: pandas>=1.0.4 in /usr/local/lib/python3.7/dist-packages (from fbprophet) (1.1.5)\n",
            "Requirement already satisfied: matplotlib>=2.0.0 in /usr/local/lib/python3.7/dist-packages (from fbprophet) (3.2.2)\n",
            "Requirement already satisfied: LunarCalendar>=0.0.9 in /usr/local/lib/python3.7/dist-packages (from fbprophet) (0.0.9)\n",
            "Requirement already satisfied: convertdate>=2.1.2 in /usr/local/lib/python3.7/dist-packages (from fbprophet) (2.3.2)\n",
            "Requirement already satisfied: holidays>=0.10.2 in /usr/local/lib/python3.7/dist-packages (from fbprophet) (0.10.5.2)\n",
            "Requirement already satisfied: setuptools-git>=1.2 in /usr/local/lib/python3.7/dist-packages (from fbprophet) (1.2)\n",
            "Requirement already satisfied: python-dateutil>=2.8.0 in /usr/local/lib/python3.7/dist-packages (from fbprophet) (2.8.2)\n",
            "Requirement already satisfied: tqdm>=4.36.1 in /usr/local/lib/python3.7/dist-packages (from fbprophet) (4.62.0)\n",
            "Requirement already satisfied: pytz>=2014.10 in /usr/local/lib/python3.7/dist-packages (from convertdate>=2.1.2->fbprophet) (2018.9)\n",
            "Requirement already satisfied: pymeeus<=1,>=0.3.13 in /usr/local/lib/python3.7/dist-packages (from convertdate>=2.1.2->fbprophet) (0.5.11)\n",
            "Requirement already satisfied: six in /usr/local/lib/python3.7/dist-packages (from holidays>=0.10.2->fbprophet) (1.15.0)\n",
            "Requirement already satisfied: hijri-converter in /usr/local/lib/python3.7/dist-packages (from holidays>=0.10.2->fbprophet) (2.1.3)\n",
            "Requirement already satisfied: korean-lunar-calendar in /usr/local/lib/python3.7/dist-packages (from holidays>=0.10.2->fbprophet) (0.2.1)\n",
            "Requirement already satisfied: ephem>=3.7.5.3 in /usr/local/lib/python3.7/dist-packages (from LunarCalendar>=0.0.9->fbprophet) (4.0.0.2)\n",
            "Requirement already satisfied: cycler>=0.10 in /usr/local/lib/python3.7/dist-packages (from matplotlib>=2.0.0->fbprophet) (0.10.0)\n",
            "Requirement already satisfied: kiwisolver>=1.0.1 in /usr/local/lib/python3.7/dist-packages (from matplotlib>=2.0.0->fbprophet) (1.3.1)\n",
            "Requirement already satisfied: pyparsing!=2.0.4,!=2.1.2,!=2.1.6,>=2.0.1 in /usr/local/lib/python3.7/dist-packages (from matplotlib>=2.0.0->fbprophet) (2.4.7)\n"
          ],
          "name": "stdout"
        }
      ]
    },
    {
      "cell_type": "code",
      "metadata": {
        "colab": {
          "base_uri": "https://localhost:8080/"
        },
        "id": "f4c7f3f1",
        "outputId": "38814850-dd5a-4d8c-8ac2-a2346b00bff2"
      },
      "source": [
        "import pandas as pd \n",
        "import matplotlib.pyplot as plt\n",
        "from fbprophet import Prophet \n",
        "print(f'Version {fbprophet.__version__}')"
      ],
      "id": "f4c7f3f1",
      "execution_count": 16,
      "outputs": [
        {
          "output_type": "stream",
          "text": [
            "Version 0.7.1\n"
          ],
          "name": "stdout"
        }
      ]
    },
    {
      "cell_type": "code",
      "metadata": {
        "colab": {
          "base_uri": "https://localhost:8080/",
          "height": 598
        },
        "id": "9c958534",
        "outputId": "e25852a6-a3e6-41b5-f935-cce19dca06d4"
      },
      "source": [
        "raw_df = pd.read_csv(\"Vaccines_Dataset (2).csv\", index_col=0)\n",
        "raw_df.head()"
      ],
      "id": "9c958534",
      "execution_count": 4,
      "outputs": [
        {
          "output_type": "execute_result",
          "data": {
            "text/html": [
              "<div>\n",
              "<style scoped>\n",
              "    .dataframe tbody tr th:only-of-type {\n",
              "        vertical-align: middle;\n",
              "    }\n",
              "\n",
              "    .dataframe tbody tr th {\n",
              "        vertical-align: top;\n",
              "    }\n",
              "\n",
              "    .dataframe thead th {\n",
              "        text-align: right;\n",
              "    }\n",
              "</style>\n",
              "<table border=\"1\" class=\"dataframe\">\n",
              "  <thead>\n",
              "    <tr style=\"text-align: right;\">\n",
              "      <th></th>\n",
              "      <th>VAERS_ID</th>\n",
              "      <th>RECVDATE</th>\n",
              "      <th>STATE</th>\n",
              "      <th>STATE_NAME</th>\n",
              "      <th>LATITUDE</th>\n",
              "      <th>LONGITUDE</th>\n",
              "      <th>AGE_YRS</th>\n",
              "      <th>SEX</th>\n",
              "      <th>SYMPTOM_TEXT</th>\n",
              "      <th>DIED</th>\n",
              "      <th>DATEDIED</th>\n",
              "      <th>L_THREAT</th>\n",
              "      <th>ER_VISIT</th>\n",
              "      <th>HOSPITAL</th>\n",
              "      <th>HOSPDAYS</th>\n",
              "      <th>X_STAY</th>\n",
              "      <th>DISABLE</th>\n",
              "      <th>RECOVD</th>\n",
              "      <th>VAX_DATE</th>\n",
              "      <th>ONSET_DATE</th>\n",
              "      <th>NUMDAYS</th>\n",
              "      <th>LAB_DATA</th>\n",
              "      <th>OTHER_MEDS</th>\n",
              "      <th>CUR_ILL</th>\n",
              "      <th>HISTORY</th>\n",
              "      <th>PRIOR_VAX</th>\n",
              "      <th>BIRTH_DEFECT</th>\n",
              "      <th>OFC_VISIT</th>\n",
              "      <th>ER_ED_VISIT</th>\n",
              "      <th>ALLERGIES</th>\n",
              "      <th>VAX_TYPE</th>\n",
              "      <th>VAX_MANU</th>\n",
              "      <th>VAX_LOT</th>\n",
              "      <th>VAX_DOSE_SERIES</th>\n",
              "      <th>VAX_ROUTE</th>\n",
              "      <th>VAX_SITE</th>\n",
              "      <th>VAX_NAME</th>\n",
              "      <th>SYMPTOM1</th>\n",
              "      <th>SYMPTOM2</th>\n",
              "      <th>SYMPTOM3</th>\n",
              "      <th>SYMPTOM4</th>\n",
              "      <th>SYMPTOM5</th>\n",
              "    </tr>\n",
              "  </thead>\n",
              "  <tbody>\n",
              "    <tr>\n",
              "      <th>0</th>\n",
              "      <td>916600</td>\n",
              "      <td>01/01/2021</td>\n",
              "      <td>TX</td>\n",
              "      <td>Texas</td>\n",
              "      <td>31.968599</td>\n",
              "      <td>-99.901813</td>\n",
              "      <td>33.0</td>\n",
              "      <td>F</td>\n",
              "      <td>Right side of epiglottis swelled up and hinder...</td>\n",
              "      <td>No</td>\n",
              "      <td>Alive</td>\n",
              "      <td>No</td>\n",
              "      <td>No</td>\n",
              "      <td>No</td>\n",
              "      <td>0</td>\n",
              "      <td>No</td>\n",
              "      <td>No</td>\n",
              "      <td>Yes</td>\n",
              "      <td>12/28/2020</td>\n",
              "      <td>12/30/2020</td>\n",
              "      <td>2</td>\n",
              "      <td>None</td>\n",
              "      <td>None</td>\n",
              "      <td>None</td>\n",
              "      <td>None</td>\n",
              "      <td>None</td>\n",
              "      <td>No</td>\n",
              "      <td>Yes</td>\n",
              "      <td>No</td>\n",
              "      <td>Pcn and bee venom</td>\n",
              "      <td>COVID19</td>\n",
              "      <td>MODERNA</td>\n",
              "      <td>037K20A</td>\n",
              "      <td>1</td>\n",
              "      <td>IM</td>\n",
              "      <td>LA</td>\n",
              "      <td>COVID19 (COVID19 (MODERNA))</td>\n",
              "      <td>Dysphagia</td>\n",
              "      <td>Epiglottitis</td>\n",
              "      <td>None</td>\n",
              "      <td>None</td>\n",
              "      <td>None</td>\n",
              "    </tr>\n",
              "    <tr>\n",
              "      <th>1</th>\n",
              "      <td>916601</td>\n",
              "      <td>01/01/2021</td>\n",
              "      <td>CA</td>\n",
              "      <td>California</td>\n",
              "      <td>36.778261</td>\n",
              "      <td>-119.417932</td>\n",
              "      <td>73.0</td>\n",
              "      <td>F</td>\n",
              "      <td>Approximately 30 min post vaccination administ...</td>\n",
              "      <td>No</td>\n",
              "      <td>Alive</td>\n",
              "      <td>No</td>\n",
              "      <td>No</td>\n",
              "      <td>No</td>\n",
              "      <td>0</td>\n",
              "      <td>No</td>\n",
              "      <td>No</td>\n",
              "      <td>Yes</td>\n",
              "      <td>12/31/2020</td>\n",
              "      <td>12/31/2020</td>\n",
              "      <td>0</td>\n",
              "      <td>None</td>\n",
              "      <td>Patient residing at nursing facility. See pati...</td>\n",
              "      <td>Patient residing at nursing facility. See pati...</td>\n",
              "      <td>Patient residing at nursing facility. See pati...</td>\n",
              "      <td>None</td>\n",
              "      <td>No</td>\n",
              "      <td>Yes</td>\n",
              "      <td>No</td>\n",
              "      <td>\"Dairy\"</td>\n",
              "      <td>COVID19</td>\n",
              "      <td>MODERNA</td>\n",
              "      <td>025L20A</td>\n",
              "      <td>1</td>\n",
              "      <td>IM</td>\n",
              "      <td>RA</td>\n",
              "      <td>COVID19 (COVID19 (MODERNA))</td>\n",
              "      <td>Anxiety</td>\n",
              "      <td>Dyspnoea</td>\n",
              "      <td>None</td>\n",
              "      <td>None</td>\n",
              "      <td>None</td>\n",
              "    </tr>\n",
              "    <tr>\n",
              "      <th>2</th>\n",
              "      <td>916602</td>\n",
              "      <td>01/01/2021</td>\n",
              "      <td>WA</td>\n",
              "      <td>Washington</td>\n",
              "      <td>47.751074</td>\n",
              "      <td>-120.740139</td>\n",
              "      <td>23.0</td>\n",
              "      <td>F</td>\n",
              "      <td>About 15 minutes after receiving the vaccine, ...</td>\n",
              "      <td>No</td>\n",
              "      <td>Alive</td>\n",
              "      <td>No</td>\n",
              "      <td>No</td>\n",
              "      <td>No</td>\n",
              "      <td>0</td>\n",
              "      <td>No</td>\n",
              "      <td>No</td>\n",
              "      <td>Unknown</td>\n",
              "      <td>12/31/2020</td>\n",
              "      <td>12/31/2020</td>\n",
              "      <td>0</td>\n",
              "      <td>None</td>\n",
              "      <td>None</td>\n",
              "      <td>None</td>\n",
              "      <td>None</td>\n",
              "      <td>None</td>\n",
              "      <td>No</td>\n",
              "      <td>No</td>\n",
              "      <td>Yes</td>\n",
              "      <td>Shellfish</td>\n",
              "      <td>COVID19</td>\n",
              "      <td>PFIZER\\BIONTECH</td>\n",
              "      <td>EL1284</td>\n",
              "      <td>1</td>\n",
              "      <td>IM</td>\n",
              "      <td>LA</td>\n",
              "      <td>COVID19 (COVID19 (PFIZER-BIONTECH))</td>\n",
              "      <td>Chest discomfort</td>\n",
              "      <td>Dysphagia</td>\n",
              "      <td>Pain in extremity</td>\n",
              "      <td>Visual impairment</td>\n",
              "      <td>None</td>\n",
              "    </tr>\n",
              "    <tr>\n",
              "      <th>3</th>\n",
              "      <td>916603</td>\n",
              "      <td>01/01/2021</td>\n",
              "      <td>WA</td>\n",
              "      <td>Washington</td>\n",
              "      <td>47.751074</td>\n",
              "      <td>-120.740139</td>\n",
              "      <td>58.0</td>\n",
              "      <td>F</td>\n",
              "      <td>extreme fatigue, dizziness,. could not lift my...</td>\n",
              "      <td>No</td>\n",
              "      <td>Alive</td>\n",
              "      <td>No</td>\n",
              "      <td>No</td>\n",
              "      <td>No</td>\n",
              "      <td>0</td>\n",
              "      <td>No</td>\n",
              "      <td>No</td>\n",
              "      <td>Yes</td>\n",
              "      <td>12/23/2020</td>\n",
              "      <td>12/23/2020</td>\n",
              "      <td>0</td>\n",
              "      <td>None</td>\n",
              "      <td>None</td>\n",
              "      <td>kidney infection</td>\n",
              "      <td>diverticulitis, mitral valve prolapse, osteoar...</td>\n",
              "      <td>got measles from measel shot, mums from mumps ...</td>\n",
              "      <td>No</td>\n",
              "      <td>No</td>\n",
              "      <td>No</td>\n",
              "      <td>Diclofenac, novacaine, lidocaine, pickles, tom...</td>\n",
              "      <td>COVID19</td>\n",
              "      <td>MODERNA</td>\n",
              "      <td>unknown</td>\n",
              "      <td>UNK</td>\n",
              "      <td>0</td>\n",
              "      <td>0</td>\n",
              "      <td>COVID19 (COVID19 (MODERNA))</td>\n",
              "      <td>Dizziness</td>\n",
              "      <td>Fatigue</td>\n",
              "      <td>Mobility decreased</td>\n",
              "      <td>None</td>\n",
              "      <td>None</td>\n",
              "    </tr>\n",
              "    <tr>\n",
              "      <th>4</th>\n",
              "      <td>916604</td>\n",
              "      <td>01/01/2021</td>\n",
              "      <td>TX</td>\n",
              "      <td>Texas</td>\n",
              "      <td>31.968599</td>\n",
              "      <td>-99.901813</td>\n",
              "      <td>47.0</td>\n",
              "      <td>F</td>\n",
              "      <td>Injection site swelling, redness, warm to the ...</td>\n",
              "      <td>No</td>\n",
              "      <td>Alive</td>\n",
              "      <td>No</td>\n",
              "      <td>No</td>\n",
              "      <td>No</td>\n",
              "      <td>0</td>\n",
              "      <td>No</td>\n",
              "      <td>No</td>\n",
              "      <td>No</td>\n",
              "      <td>12/22/2020</td>\n",
              "      <td>12/29/2020</td>\n",
              "      <td>7</td>\n",
              "      <td>None</td>\n",
              "      <td>None</td>\n",
              "      <td>None</td>\n",
              "      <td>None</td>\n",
              "      <td>None</td>\n",
              "      <td>No</td>\n",
              "      <td>No</td>\n",
              "      <td>No</td>\n",
              "      <td>Na</td>\n",
              "      <td>COVID19</td>\n",
              "      <td>MODERNA</td>\n",
              "      <td>0</td>\n",
              "      <td>1</td>\n",
              "      <td>IM</td>\n",
              "      <td>LA</td>\n",
              "      <td>COVID19 (COVID19 (MODERNA))</td>\n",
              "      <td>Injection site erythema</td>\n",
              "      <td>Injection site pruritus</td>\n",
              "      <td>Injection site swelling</td>\n",
              "      <td>Injection site warmth</td>\n",
              "      <td>None</td>\n",
              "    </tr>\n",
              "  </tbody>\n",
              "</table>\n",
              "</div>"
            ],
            "text/plain": [
              "   VAERS_ID    RECVDATE  ...               SYMPTOM4 SYMPTOM5\n",
              "0    916600  01/01/2021  ...                   None     None\n",
              "1    916601  01/01/2021  ...                   None     None\n",
              "2    916602  01/01/2021  ...      Visual impairment     None\n",
              "3    916603  01/01/2021  ...                   None     None\n",
              "4    916604  01/01/2021  ...  Injection site warmth     None\n",
              "\n",
              "[5 rows x 42 columns]"
            ]
          },
          "metadata": {},
          "execution_count": 4
        }
      ]
    },
    {
      "cell_type": "code",
      "metadata": {
        "colab": {
          "base_uri": "https://localhost:8080/",
          "height": 204
        },
        "id": "896c3f79",
        "outputId": "618c5e23-ec73-4453-93cf-f9b33b46bc3e"
      },
      "source": [
        "vaccine_number_df = raw_df.groupby([\"RECVDATE\"])[\"VAERS_ID\"].count().reset_index()\n",
        "vaccine_number_df.head()"
      ],
      "id": "896c3f79",
      "execution_count": 21,
      "outputs": [
        {
          "output_type": "execute_result",
          "data": {
            "text/html": [
              "<div>\n",
              "<style scoped>\n",
              "    .dataframe tbody tr th:only-of-type {\n",
              "        vertical-align: middle;\n",
              "    }\n",
              "\n",
              "    .dataframe tbody tr th {\n",
              "        vertical-align: top;\n",
              "    }\n",
              "\n",
              "    .dataframe thead th {\n",
              "        text-align: right;\n",
              "    }\n",
              "</style>\n",
              "<table border=\"1\" class=\"dataframe\">\n",
              "  <thead>\n",
              "    <tr style=\"text-align: right;\">\n",
              "      <th></th>\n",
              "      <th>RECVDATE</th>\n",
              "      <th>VAERS_ID</th>\n",
              "    </tr>\n",
              "  </thead>\n",
              "  <tbody>\n",
              "    <tr>\n",
              "      <th>0</th>\n",
              "      <td>01/01/2021</td>\n",
              "      <td>457</td>\n",
              "    </tr>\n",
              "    <tr>\n",
              "      <th>1</th>\n",
              "      <td>01/02/2021</td>\n",
              "      <td>419</td>\n",
              "    </tr>\n",
              "    <tr>\n",
              "      <th>2</th>\n",
              "      <td>01/03/2021</td>\n",
              "      <td>374</td>\n",
              "    </tr>\n",
              "    <tr>\n",
              "      <th>3</th>\n",
              "      <td>01/04/2021</td>\n",
              "      <td>1311</td>\n",
              "    </tr>\n",
              "    <tr>\n",
              "      <th>4</th>\n",
              "      <td>01/05/2021</td>\n",
              "      <td>1716</td>\n",
              "    </tr>\n",
              "  </tbody>\n",
              "</table>\n",
              "</div>"
            ],
            "text/plain": [
              "     RECVDATE  VAERS_ID\n",
              "0  01/01/2021       457\n",
              "1  01/02/2021       419\n",
              "2  01/03/2021       374\n",
              "3  01/04/2021      1311\n",
              "4  01/05/2021      1716"
            ]
          },
          "metadata": {},
          "execution_count": 21
        }
      ]
    },
    {
      "cell_type": "code",
      "metadata": {
        "colab": {
          "base_uri": "https://localhost:8080/",
          "height": 282
        },
        "id": "c9a65dbc",
        "outputId": "960c1a72-cb5b-45b4-b2ff-cc5f4ab8a87a"
      },
      "source": [
        "vaccine_number_df.plot()"
      ],
      "id": "c9a65dbc",
      "execution_count": 22,
      "outputs": [
        {
          "output_type": "execute_result",
          "data": {
            "text/plain": [
              "<matplotlib.axes._subplots.AxesSubplot at 0x7f0f60f92a10>"
            ]
          },
          "metadata": {},
          "execution_count": 22
        },
        {
          "output_type": "display_data",
          "data": {
            "image/png": "[encoded data removed]",
            "text/plain": [
              "<Figure size 432x288 with 1 Axes>"
            ]
          },
          "metadata": {
            "needs_background": "light"
          }
        }
      ]
    },
    {
      "cell_type": "code",
      "metadata": {
        "colab": {
          "base_uri": "https://localhost:8080/"
        },
        "id": "cd8c1d77",
        "outputId": "3390fddb-385d-4c03-d6e7-3dcfa049851b"
      },
      "source": [
        "vaccine_number_df.columns = ['ds', 'y']\n",
        "vaccine_number_df[\"ds\"]=pd.to_datetime(vaccine_number_df[\"ds\"])\n",
        "vaccine_number_df.columns"
      ],
      "id": "cd8c1d77",
      "execution_count": 23,
      "outputs": [
        {
          "output_type": "execute_result",
          "data": {
            "text/plain": [
              "Index(['ds', 'y'], dtype='object')"
            ]
          },
          "metadata": {},
          "execution_count": 23
        }
      ]
    },
    {
      "cell_type": "code",
      "metadata": {
        "colab": {
          "base_uri": "https://localhost:8080/"
        },
        "id": "AjnGIjeX3_Dd",
        "outputId": "e262f08c-0534-4fea-ce91-31911b4cfd88"
      },
      "source": [
        "vaccine_number_df.dtypes"
      ],
      "id": "AjnGIjeX3_Dd",
      "execution_count": 24,
      "outputs": [
        {
          "output_type": "execute_result",
          "data": {
            "text/plain": [
              "ds    datetime64[ns]\n",
              "y              int64\n",
              "dtype: object"
            ]
          },
          "metadata": {},
          "execution_count": 24
        }
      ]
    },
    {
      "cell_type": "code",
      "metadata": {
        "colab": {
          "base_uri": "https://localhost:8080/"
        },
        "id": "44fca43d",
        "outputId": "a38b12f2-dbee-49ed-d799-42b2ef17692a"
      },
      "source": [
        "model = Prophet()\n",
        "model.fit(vaccine_number_df)"
      ],
      "id": "44fca43d",
      "execution_count": 25,
      "outputs": [
        {
          "output_type": "stream",
          "text": [
            "INFO:fbprophet:Disabling yearly seasonality. Run prophet with yearly_seasonality=True to override this.\n",
            "INFO:fbprophet:Disabling daily seasonality. Run prophet with daily_seasonality=True to override this.\n"
          ],
          "name": "stderr"
        },
        {
          "output_type": "execute_result",
          "data": {
            "text/plain": [
              "<fbprophet.forecaster.Prophet at 0x7f0f60e3f650>"
            ]
          },
          "metadata": {},
          "execution_count": 25
        }
      ]
    },
    {
      "cell_type": "markdown",
      "metadata": {
        "id": "e4107aa8"
      },
      "source": [
        "## In-Sample Forecast"
      ],
      "id": "e4107aa8"
    },
    {
      "cell_type": "code",
      "metadata": {
        "colab": {
          "base_uri": "https://localhost:8080/"
        },
        "id": "7ShpBC_36Dtg",
        "outputId": "1e08899b-6ca0-42e4-c033-9d734cf0ddd4"
      },
      "source": [
        "vaccine_number_df [\"ds\"].agg({\"Max\":\"max\",\"Min\":\"min\"})"
      ],
      "id": "7ShpBC_36Dtg",
      "execution_count": 28,
      "outputs": [
        {
          "output_type": "execute_result",
          "data": {
            "text/plain": [
              "Max   2021-03-19\n",
              "Min   2021-01-01\n",
              "Name: ds, dtype: datetime64[ns]"
            ]
          },
          "metadata": {},
          "execution_count": 28
        }
      ]
    },
    {
      "cell_type": "code",
      "metadata": {
        "id": "0965e7f9"
      },
      "source": [
        "# future = [] \n",
        "# for i in range(1, 13):\n",
        "#     date = \"2021-%02d\" % i\n",
        "#     future.append(date)\n",
        "future = pd.DataFrame([\"2021-02\",\"2021-03\"], columns = [\"ds\"])\n",
        "future[\"ds\"]=pd.to_datetime(future[\"ds\"])"
      ],
      "id": "0965e7f9",
      "execution_count": 31,
      "outputs": []
    },
    {
      "cell_type": "code",
      "metadata": {
        "colab": {
          "base_uri": "https://localhost:8080/",
          "height": 492
        },
        "id": "6388e4d9",
        "outputId": "5c7145fa-bc6c-4ff8-8556-dd57826797b4"
      },
      "source": [
        "forecast = model.predict(future)\n",
        "\n",
        "print(forecast[['ds', 'yhat', 'yhat_lower', 'yhat_upper']].head())\n",
        "\n",
        "model.plot(forecast)\n",
        "plt.show()"
      ],
      "id": "6388e4d9",
      "execution_count": 32,
      "outputs": [
        {
          "output_type": "stream",
          "text": [
            "          ds        yhat  yhat_lower   yhat_upper\n",
            "0 2021-02-01  583.414025   -4.635226  1184.179062\n",
            "1 2021-03-01  342.651817 -274.693735   917.681271\n"
          ],
          "name": "stdout"
        },
        {
          "output_type": "display_data",
          "data": {
            "image/png": "[encoded data removed]",
            "text/plain": [
              "<Figure size 720x432 with 1 Axes>"
            ]
          },
          "metadata": {}
        }
      ]
    },
    {
      "cell_type": "markdown",
      "metadata": {
        "id": "41ba08d3"
      },
      "source": [
        "## Out of Sample Forecast"
      ],
      "id": "41ba08d3"
    },
    {
      "cell_type": "code",
      "metadata": {
        "id": "45f8be4b"
      },
      "source": [
        "future = [] \n",
        "for i in range(4, 13):\n",
        "    date = \"2021-%02d\" % i\n",
        "    future.append(date)\n",
        "future = pd.DataFrame(future, columns = [\"ds\"])\n",
        "future[\"ds\"]=pd.to_datetime(future[\"ds\"])"
      ],
      "id": "45f8be4b",
      "execution_count": 41,
      "outputs": []
    },
    {
      "cell_type": "code",
      "metadata": {
        "colab": {
          "base_uri": "https://localhost:8080/",
          "height": 543
        },
        "id": "05b449ca",
        "outputId": "7c704c56-95bc-4b86-80a0-c7152e5ed773"
      },
      "source": [
        "forecast = model.predict(future)\n",
        "\n",
        "print(forecast[['ds', 'yhat', 'yhat_lower', 'yhat_upper']].head())\n",
        "\n",
        "model.plot(forecast)\n",
        "plt.show()"
      ],
      "id": "05b449ca",
      "execution_count": 42,
      "outputs": [
        {
          "output_type": "stream",
          "text": [
            "          ds         yhat   yhat_lower  yhat_upper\n",
            "0 2021-04-01   -95.392011  -752.487653  463.597341\n",
            "1 2021-05-01  -557.600320 -1148.797889   50.793478\n",
            "2 2021-06-01  -528.589186 -1115.667982   74.204722\n",
            "3 2021-07-01  -877.859688 -1481.758560 -277.421127\n",
            "4 2021-08-01 -1345.708060 -1947.382865 -791.123726\n"
          ],
          "name": "stdout"
        },
        {
          "output_type": "display_data",
          "data": {
            "image/png": "[encoded data removed]",
            "text/plain": [
              "<Figure size 720x432 with 1 Axes>"
            ]
          },
          "metadata": {}
        }
      ]
    },
    {
      "cell_type": "markdown",
      "metadata": {
        "id": "62d4809e"
      },
      "source": [
        "## Evaluate efficency "
      ],
      "id": "62d4809e"
    },
    {
      "cell_type": "code",
      "metadata": {
        "colab": {
          "base_uri": "https://localhost:8080/",
          "height": 282
        },
        "id": "4a9cbd2b",
        "outputId": "dc6d817c-009c-4ff1-bf42-476f557900d7"
      },
      "source": [
        "from sklearn.metrics import mean_absolute_error\n",
        "y_true = vaccine_number_df['y'][-9:].values\n",
        "y_pred = forecast['yhat'].values\n",
        "mae = mean_absolute_error(y_true, y_pred)\n",
        "print(f'MAE: {mae:.3f}')\n",
        "plt.plot(y_true, label='Actual')\n",
        "plt.plot(y_pred, label='Predicted')\n",
        "plt.legend()\n",
        "plt.show()"
      ],
      "id": "4a9cbd2b",
      "execution_count": 44,
      "outputs": [
        {
          "output_type": "stream",
          "text": [
            "MAE: 1229.436\n"
          ],
          "name": "stdout"
        },
        {
          "output_type": "display_data",
          "data": {
            "image/png": "[encoded data removed]",
            "text/plain": [
              "<Figure size 432x288 with 1 Axes>"
            ]
          },
          "metadata": {
            "needs_background": "light"
          }
        }
      ]
    },
    {
      "cell_type": "code",
      "metadata": {
        "colab": {
          "base_uri": "https://localhost:8080/"
        },
        "id": "DcwTIc-L8Nvw",
        "outputId": "bb138360-0676-404c-e684-b74b753df770"
      },
      "source": [
        "vaccine_number_df[\"y\"]"
      ],
      "id": "DcwTIc-L8Nvw",
      "execution_count": 38,
      "outputs": [
        {
          "output_type": "execute_result",
          "data": {
            "text/plain": [
              "0      457\n",
              "1      419\n",
              "2      374\n",
              "3     1311\n",
              "4     1716\n",
              "      ... \n",
              "73     116\n",
              "74      80\n",
              "75      39\n",
              "76      46\n",
              "77       5\n",
              "Name: y, Length: 78, dtype: int64"
            ]
          },
          "metadata": {},
          "execution_count": 38
        }
      ]
    }
  ]
}